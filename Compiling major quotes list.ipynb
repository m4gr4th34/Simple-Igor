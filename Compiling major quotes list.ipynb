{
 "cells": [
  {
   "cell_type": "code",
   "execution_count": 7,
   "metadata": {},
   "outputs": [],
   "source": [
    "import os\n",
    "# This is the path where all the files are stored.\n",
    "folder_path = 'wisdom/'\n",
    "w = open(\"cb_compiled.txt\", \"a\", encoding = \"utf-8\")\n",
    "\n",
    "# Open one of the files,\n",
    "for data_file in os.listdir(folder_path):\n",
    "    f=open(folder_path+data_file,'r',errors = 'ignore', encoding = \"utf-8\")\n",
    "    #print(f)\n",
    "    w.write(f.read())\n",
    "    \n",
    "f.close()\n",
    "w.close()"
   ]
  },
  {
   "cell_type": "code",
   "execution_count": null,
   "metadata": {},
   "outputs": [],
   "source": []
  }
 ],
 "metadata": {
  "kernelspec": {
   "display_name": "Python 3",
   "language": "python",
   "name": "python3"
  },
  "language_info": {
   "codemirror_mode": {
    "name": "ipython",
    "version": 3
   },
   "file_extension": ".py",
   "mimetype": "text/x-python",
   "name": "python",
   "nbconvert_exporter": "python",
   "pygments_lexer": "ipython3",
   "version": "3.7.3"
  }
 },
 "nbformat": 4,
 "nbformat_minor": 2
}
