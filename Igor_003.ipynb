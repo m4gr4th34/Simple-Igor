{
 "cells": [
  {
   "cell_type": "markdown",
   "metadata": {},
   "source": [
    "## Igor - a simple chatbot for wisdom and wellbeing.  \n",
    "Run all cells, write your thoughts, sip from the cup of the wisdom of the ages.\n",
    "\n",
    "    Key: clr - clears your input\n",
    "         otr - records your questions, answer, and rating in a file for your records.\n",
    "         ftr - stops the recording for complete privacy.\n",
    "\n",
    "(with acknowledgements to https://medium.com/analytics-vidhya/building-a-simple-chatbot-in-python-using-nltk-7c8c8215ac6e)"
   ]
  },
  {
   "cell_type": "code",
   "execution_count": 1,
   "metadata": {},
   "outputs": [],
   "source": [
    "##version 003 includes feedback collection to create database for supervised learning of a NN.\n",
    "\n",
    "import nltk\n",
    "import numpy as np\n",
    "import random\n",
    "import string # to process standard python strings\n",
    "import re"
   ]
  },
  {
   "cell_type": "code",
   "execution_count": 2,
   "metadata": {},
   "outputs": [],
   "source": [
    "f=open('cb_compiled.txt','r',errors = 'ignore', encoding = \"utf-8\")\n",
    "raw=f.read()\n",
    "raw=raw.lower()# converts to lowercase\n",
    "#nltk.download('punkt') # first-time use only\n",
    "#nltk.download('wordnet') # first-time use only\n",
    "sent_tokens = nltk.sent_tokenize(raw)# converts to list of sentences \n",
    "word_tokens = nltk.word_tokenize(raw)# converts to list of words\n",
    "\n",
    "\n",
    "record_flag=True\n",
    "#sent_tokens[:2]\n",
    "#word_tokens[:2]\n",
    "\n",
    "lemmer = nltk.stem.WordNetLemmatizer()\n",
    "#WordNet is a semantically-oriented dictionary of English included in NLTK.\n",
    "def LemTokens(tokens):\n",
    "    return [lemmer.lemmatize(token) for token in tokens]\n",
    "remove_punct_dict = dict((ord(punct), None) for punct in string.punctuation)\n",
    "def LemNormalize(text):\n",
    "    return LemTokens(nltk.word_tokenize(text.lower().translate(remove_punct_dict)))\n",
    "\n",
    "\n",
    "GREETING_INPUTS = (\"hello\", \"hi\", \"greetings\", \"sup\", \"what's up\",\"hey\",)\n",
    "GREETING_RESPONSES = [\"hi\", \"hey\", \"*nods*\", \"hi there\", \"hello\", \"I am glad! You are talking to me\"]\n",
    "def greeting(sentence):\n",
    " \n",
    "    for word in sentence.split():\n",
    "        if word.lower() in GREETING_INPUTS:\n",
    "            return random.choice(GREETING_RESPONSES)\n",
    "        \n",
    "        \n",
    "from sklearn.feature_extraction.text import TfidfVectorizer\n",
    "from sklearn.metrics.pairwise import cosine_similarity\n",
    "f.close()\n",
    "\n",
    "def response(user_response):\n",
    "    robo_response=''\n",
    "    sent_tokens.append(user_response)\n",
    "    TfidfVec = TfidfVectorizer(tokenizer=LemNormalize, stop_words='english')\n",
    "    tfidf = TfidfVec.fit_transform(sent_tokens)\n",
    "    vals = cosine_similarity(tfidf[-1], tfidf)\n",
    "    idx=vals.argsort()[0][-2]\n",
    "    flat = vals.flatten()\n",
    "    flat.sort()\n",
    "    req_tfidf = flat[-2]\n",
    "    if(req_tfidf==0):\n",
    "        robo_response=robo_response+\"I am sorry! I don't understand you\"\n",
    "        return robo_response\n",
    "    else:\n",
    "        #randomly pick top 10 answers\n",
    "        i=-2\n",
    "        x=0\n",
    "        robo_responses = []\n",
    "        track_idxx = [] #to track the array positions of possible answers\n",
    "        while flat[i]!=0 and x<100:\n",
    "            idxx=vals.argsort()[0][i]\n",
    "            \n",
    "            #print(x, '.  ', sent_tokens[idxx])\n",
    "            robo_responses.append(sent_tokens[idxx])\n",
    "            track_idxx.append(idxx)\n",
    "            i=i-1\n",
    "            x=x+1\n",
    "        s = random.randint(0,x-1)\n",
    "        robo_response = robo_response + robo_responses[s] #robo_response+sent_tokens[idx]\n",
    "        if record_flag==True: td.write(user_response.strip()+'\\t'+str(track_idxx[s])+'\\t')\n",
    "        #print(flat[-2-s]) #checking to see typical flat value.  no insight gained.\n",
    "        #print(sent_tokens[track_idxx[s]]) #Confirming that idxx is the array position of the reponse in sent_tokens\n",
    "        return robo_response"
   ]
  },
  {
   "cell_type": "code",
   "execution_count": null,
   "metadata": {},
   "outputs": [
    {
     "name": "stdout",
     "output_type": "stream",
     "text": [
      "i'm afraid that no one will appreciate this little fella\n",
      "IGOR: be not afraid of going slowly, be afraid only of standing still. chinese proverb .\n",
      "----\n",
      "good response? (1=worst, 9=best)\n",
      "9\n",
      "--------\n",
      "ftr\n",
      "IGOR: You are now OFF the record..\n"
     ]
    }
   ],
   "source": [
    "from IPython.display import clear_output\n",
    "\n",
    "td=open('cb_training_data.txt','a',errors = 'ignore', encoding = \"utf-8\") #training data for supervised NN\n",
    "\n",
    "\n",
    "flag=True\n",
    "print(\"IGOR: My name is Igor. I will give wisdom, hopefully. If you want to exit, type Bye!\")\n",
    "while(flag==True):\n",
    "    user_response = input()\n",
    "    user_response=user_response.lower()\n",
    "    if(user_response!='bye'):\n",
    "        if(user_response=='thanks' or user_response=='thank you' ):\n",
    "            flag=False\n",
    "            print(\"IGOR: You are welcome..\")\n",
    "        elif(user_response=='off the record' or user_response=='ftr' ):\n",
    "            record_flag=False\n",
    "            print(\"IGOR: You are now OFF the record..\")\n",
    "        elif(user_response=='on the record' or user_response=='ntr' ):\n",
    "            record_flag=True\n",
    "            print(\"IGOR: You are now ON the record..\")\n",
    "        elif(user_response=='clr'):\n",
    "            clear_output()\n",
    "        else:\n",
    "            if(greeting(user_response)!=None):\n",
    "                print(\"IGOR: \"+greeting(user_response))\n",
    "            else:\n",
    "                print(\"IGOR: \",end=\"\")\n",
    "                temp_r = response(user_response)\n",
    "                temp_r = re.sub('-dd-', '.', temp_r)\n",
    "                temp_r = re.sub('-qq-', '?', temp_r)\n",
    "                temp_r = re.sub('-xx-', '!', temp_r)\n",
    "                temp_r = re.sub('â€™', '\\'', temp_r)\n",
    "                \n",
    "                print(temp_r)\n",
    "                print('----')\n",
    "                sent_tokens.remove(user_response)\n",
    "                if temp_r != \"I am sorry! I don't understand you\" and record_flag==True:\n",
    "                    print(\"good response? (1=worst, 9=best)\")\n",
    "                    feedback_rating = input()\n",
    "                    td.write(feedback_rating+'\\n')\n",
    "                    print(\"--------\")\n",
    "    else:\n",
    "        flag=False\n",
    "        td.close()\n",
    "        print(\"IGOR: Bye! take care..\")"
   ]
  },
  {
   "cell_type": "code",
   "execution_count": null,
   "metadata": {},
   "outputs": [],
   "source": []
  },
  {
   "cell_type": "code",
   "execution_count": null,
   "metadata": {},
   "outputs": [],
   "source": []
  },
  {
   "cell_type": "code",
   "execution_count": null,
   "metadata": {},
   "outputs": [],
   "source": []
  },
  {
   "cell_type": "code",
   "execution_count": null,
   "metadata": {},
   "outputs": [],
   "source": []
  },
  {
   "cell_type": "code",
   "execution_count": null,
   "metadata": {},
   "outputs": [],
   "source": []
  },
  {
   "cell_type": "code",
   "execution_count": null,
   "metadata": {},
   "outputs": [],
   "source": []
  },
  {
   "cell_type": "code",
   "execution_count": null,
   "metadata": {},
   "outputs": [],
   "source": []
  },
  {
   "cell_type": "code",
   "execution_count": null,
   "metadata": {},
   "outputs": [],
   "source": []
  },
  {
   "cell_type": "code",
   "execution_count": null,
   "metadata": {},
   "outputs": [],
   "source": []
  },
  {
   "cell_type": "code",
   "execution_count": null,
   "metadata": {},
   "outputs": [],
   "source": []
  },
  {
   "cell_type": "code",
   "execution_count": null,
   "metadata": {},
   "outputs": [],
   "source": []
  },
  {
   "cell_type": "code",
   "execution_count": null,
   "metadata": {},
   "outputs": [],
   "source": []
  },
  {
   "cell_type": "code",
   "execution_count": null,
   "metadata": {},
   "outputs": [],
   "source": []
  }
 ],
 "metadata": {
  "kernelspec": {
   "display_name": "Python 3",
   "language": "python",
   "name": "python3"
  },
  "language_info": {
   "codemirror_mode": {
    "name": "ipython",
    "version": 3
   },
   "file_extension": ".py",
   "mimetype": "text/x-python",
   "name": "python",
   "nbconvert_exporter": "python",
   "pygments_lexer": "ipython3",
   "version": "3.7.3"
  }
 },
 "nbformat": 4,
 "nbformat_minor": 2
}
