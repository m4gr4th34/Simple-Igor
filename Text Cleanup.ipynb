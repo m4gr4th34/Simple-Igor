{
 "cells": [
  {
   "cell_type": "code",
   "execution_count": 61,
   "metadata": {},
   "outputs": [],
   "source": [
    "f=open('Quotes/wisdom_quotes_01.txt','r',errors = 'ignore')\n",
    "raw=f.read()\n",
    "raw=raw.lower()"
   ]
  },
  {
   "cell_type": "code",
   "execution_count": 62,
   "metadata": {},
   "outputs": [],
   "source": [
    "#Only run this for cleaning up and apending to the file.\n",
    "import re\n",
    "\n",
    "raw = re.sub('\\.', '-dd-', raw)\n",
    "raw = re.sub('\\?', '-qq-', raw)\n",
    "raw = re.sub('!', '-xx-', raw)\n",
    "raw = re.sub('â€™', '\\'', raw)\n",
    "\n",
    "#raw = re.sub('%%', '.', raw)\n",
    "#raw = re.sub('\\*\\*\\*', '.', raw)\n",
    "#raw = re.sub('\\*', '.', raw)\n",
    "raw = re.sub('\\n\\n', '.', raw)\n",
    "#raw = re.sub('\\n-dd-', '.', raw)\n",
    "#raw = re.sub('\\n', '.', raw)\n",
    "#raw = re.sub('\\n     \\n', '.', raw)\n",
    "\n",
    "raw = re.sub('\\.', ' . ', raw)\n",
    "\n",
    "raw = re.sub('\\s+', ' ', raw)\n",
    "for i in [1,2,3,4,5,6,7,8,9,10]:\n",
    "    raw = re.sub('  ', ' ', raw)\n",
    "    i=i+1\n",
    "\n",
    "w = open(\"wisdom_quotes_01.txt\", \"w\")\n",
    "w.write(raw)\n",
    "w.close()"
   ]
  },
  {
   "cell_type": "code",
   "execution_count": 96,
   "metadata": {},
   "outputs": [],
   "source": [
    "f.close()"
   ]
  },
  {
   "cell_type": "code",
   "execution_count": null,
   "metadata": {},
   "outputs": [],
   "source": []
  }
 ],
 "metadata": {
  "kernelspec": {
   "display_name": "Python 3",
   "language": "python",
   "name": "python3"
  },
  "language_info": {
   "codemirror_mode": {
    "name": "ipython",
    "version": 3
   },
   "file_extension": ".py",
   "mimetype": "text/x-python",
   "name": "python",
   "nbconvert_exporter": "python",
   "pygments_lexer": "ipython3",
   "version": "3.7.3"
  }
 },
 "nbformat": 4,
 "nbformat_minor": 2
}
